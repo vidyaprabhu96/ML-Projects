{
 "cells": [
  {
   "cell_type": "code",
   "execution_count": 8,
   "id": "3810912d-ffd1-44d8-ba32-1693502847e8",
   "metadata": {},
   "outputs": [
    {
     "name": "stdout",
     "output_type": "stream",
     "text": [
      "Model's Accuracy: 0.7752808988764045\n",
      "Model's Precision score: 0.7045454545454546\n",
      "Model's Recall: 0.8157894736842105\n",
      "Model's F1 score: 0.7560975609756098\n"
     ]
    }
   ],
   "source": [
    "import pandas as pd\n",
    "import numpy as np\n",
    "from sklearn.model_selection import train_test_split\n",
    "from sklearn.tree import DecisionTreeClassifier\n",
    "from sklearn import metrics\n",
    "\n",
    "#read the dataset\n",
    "df= pd.read_csv('heartcleaned.csv')\n",
    "\n",
    "#separate X and y datasets\n",
    "X = df.drop(columns= ['heart_disease_diag'], inplace = False) # feature columns are all columns except the label column.\n",
    "y = df['heart_disease_diag']\n",
    "\n",
    "#split data into traininga and testing\n",
    "X_trainset, X_testset, y_trainset, y_testset = train_test_split(X, y, test_size=0.3, random_state= 30)\n",
    "\n",
    "#initialize the untrained model\n",
    "model = DecisionTreeClassifier (criterion = \"entropy\", max_depth = 4)\n",
    "\n",
    "# train the model\n",
    "model.fit(X_trainset, y_trainset)\n",
    "\n",
    "#score the model  using testset\n",
    "prediction = model.predict(X_testset)\n",
    "\n",
    "\n",
    "#Evaluate performance-- out of sample performance\n",
    "print(\"Model's Accuracy:\", metrics.accuracy_score(y_testset, prediction))\n",
    "print(\"Model's Precision score:\", metrics.precision_score(y_testset, prediction))\n",
    "print(\"Model's Recall:\", metrics.recall_score(y_testset, prediction))\n",
    "print(\"Model's F1 score:\", metrics.f1_score(y_testset, prediction))\n"
   ]
  },
  {
   "cell_type": "code",
   "execution_count": 11,
   "id": "c08f64ff-2e51-481d-958e-ddbdef30a30d",
   "metadata": {},
   "outputs": [
    {
     "name": "stdout",
     "output_type": "stream",
     "text": [
      "Model's Accuracy using trainset:  0.8792270531400966\n",
      "Model's precision score using trainset:: 0.8854166666666666\n",
      "model's recall using trainset:: 0.8585858585858586\n",
      "Model's f1_score using trainset:: 0.8717948717948718\n"
     ]
    }
   ],
   "source": [
    "#Score the model using trainset\n",
    "trainsetpred = model.predict(X_trainset)\n",
    "\n",
    "#Evaluate performance--- in-sample performance\n",
    "print(\"Model's Accuracy using trainset: \", metrics.accuracy_score(y_trainset, trainsetpred))\n",
    "print(\"Model's precision score using trainset::\", metrics.precision_score(y_trainset, trainsetpred))\n",
    "print(\"model's recall using trainset::\", metrics.recall_score(y_trainset, trainsetpred))\n",
    "print(\"Model's f1_score using trainset::\", metrics.f1_score(y_trainset, trainsetpred))"
   ]
  },
  {
   "cell_type": "code",
   "execution_count": null,
   "id": "aa29b434-0372-46d6-a76c-855d84761752",
   "metadata": {},
   "outputs": [],
   "source": []
  }
 ],
 "metadata": {
  "kernelspec": {
   "display_name": "Python 3 (ipykernel)",
   "language": "python",
   "name": "python3"
  },
  "language_info": {
   "codemirror_mode": {
    "name": "ipython",
    "version": 3
   },
   "file_extension": ".py",
   "mimetype": "text/x-python",
   "name": "python",
   "nbconvert_exporter": "python",
   "pygments_lexer": "ipython3",
   "version": "3.13.0"
  }
 },
 "nbformat": 4,
 "nbformat_minor": 5
}
